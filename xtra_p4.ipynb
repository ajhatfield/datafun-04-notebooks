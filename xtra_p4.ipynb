{
 "cells": [
  {
   "cell_type": "markdown",
   "metadata": {},
   "source": [
    "# Optional Task - BONUS\n",
    "\n",
    "cleaning and data transforming\n",
    "\n",
    "purpose: To create and clean a data set (list of contact). \n",
    "\n",
    "Author: Alison Hatfield\n",
    "Date: Sep 2023"
   ]
  },
  {
   "cell_type": "markdown",
   "metadata": {},
   "source": [
    "1. Start by creating a list of contacts\n",
    "2. Create a DataFrame"
   ]
  },
  {
   "cell_type": "code",
   "execution_count": 1,
   "metadata": {},
   "outputs": [
    {
     "data": {
      "text/html": [
       "<div>\n",
       "<style scoped>\n",
       "    .dataframe tbody tr th:only-of-type {\n",
       "        vertical-align: middle;\n",
       "    }\n",
       "\n",
       "    .dataframe tbody tr th {\n",
       "        vertical-align: top;\n",
       "    }\n",
       "\n",
       "    .dataframe thead th {\n",
       "        text-align: right;\n",
       "    }\n",
       "</style>\n",
       "<table border=\"1\" class=\"dataframe\">\n",
       "  <thead>\n",
       "    <tr style=\"text-align: right;\">\n",
       "      <th></th>\n",
       "      <th>Name</th>\n",
       "      <th>Email</th>\n",
       "      <th>Phone</th>\n",
       "    </tr>\n",
       "  </thead>\n",
       "  <tbody>\n",
       "    <tr>\n",
       "      <th>0</th>\n",
       "      <td>Brooke Lansford</td>\n",
       "      <td>blansford15@example.com</td>\n",
       "      <td>8161234567</td>\n",
       "    </tr>\n",
       "    <tr>\n",
       "      <th>1</th>\n",
       "      <td>Lou Gilbert</td>\n",
       "      <td>LouGil11@example.com</td>\n",
       "      <td>8163456789</td>\n",
       "    </tr>\n",
       "    <tr>\n",
       "      <th>2</th>\n",
       "      <td>Olivia Wansing</td>\n",
       "      <td>OWansing32@example.com</td>\n",
       "      <td>9131122334</td>\n",
       "    </tr>\n",
       "    <tr>\n",
       "      <th>3</th>\n",
       "      <td>Jen Harvey</td>\n",
       "      <td>Jenharvey@example.com</td>\n",
       "      <td>9133451234</td>\n",
       "    </tr>\n",
       "    <tr>\n",
       "      <th>4</th>\n",
       "      <td>Gracie Neff</td>\n",
       "      <td>GNeff0@example.com</td>\n",
       "      <td>8167245533</td>\n",
       "    </tr>\n",
       "  </tbody>\n",
       "</table>\n",
       "</div>"
      ],
      "text/plain": [
       "              Name                    Email       Phone\n",
       "0  Brooke Lansford  blansford15@example.com  8161234567\n",
       "1      Lou Gilbert     LouGil11@example.com  8163456789\n",
       "2   Olivia Wansing   OWansing32@example.com  9131122334\n",
       "3       Jen Harvey    Jenharvey@example.com  9133451234\n",
       "4      Gracie Neff       GNeff0@example.com  8167245533"
      ]
     },
     "execution_count": 1,
     "metadata": {},
     "output_type": "execute_result"
    }
   ],
   "source": [
    "import pandas as pd\n",
    "\n",
    "contacts = [['Brooke Lansford', 'blansford15@example.com', '8161234567'], ['Lou Gilbert', 'LouGil11@example.com', '8163456789'], ['Olivia Wansing', 'OWansing32@example.com','9131122334'], ['Jen Harvey', 'Jenharvey@example.com', '9133451234'], ['Gracie Neff', 'GNeff0@example.com', '8167245533']]\n",
    "\n",
    "contacts_df = pd.DataFrame(contacts, columns=['Name', 'Email', 'Phone'])\n",
    "\n",
    "contacts_df"
   ]
  },
  {
   "cell_type": "markdown",
   "metadata": {},
   "source": [
    "3. The phone numbers are not formatted.\n",
    "4. Follow the text to create a function that uses regular expressions (usually abbreviated regex or re) to create a function to get a formatted version of the unformatted phone number. \n",
    "5. Use map() and your function to improve the DataFrame \n",
    "6. Verify phone numbers now appear with two dashes (e.g., 555-555-5555). "
   ]
  },
  {
   "cell_type": "code",
   "execution_count": 4,
   "metadata": {},
   "outputs": [
    {
     "data": {
      "text/plain": [
       "0    816-123-4567\n",
       "1    816-345-6789\n",
       "2    913-112-2334\n",
       "3    913-345-1234\n",
       "4    816-724-5533\n",
       "Name: Phone, dtype: object"
      ]
     },
     "execution_count": 4,
     "metadata": {},
     "output_type": "execute_result"
    }
   ],
   "source": [
    "import re\n",
    "\n",
    "def get_formatted_phone(value):\n",
    "    result = re.fullmatch(r'(\\d{3})(\\d{3})(\\d{4})', value)\n",
    "    return '-'.join(result.groups()) if result else value\n",
    "\n",
    "formatted_phone = contacts_df['Phone'].map(get_formatted_phone)\n",
    "\n",
    "formatted_phone\n"
   ]
  },
  {
   "cell_type": "markdown",
   "metadata": {},
   "source": [
    "New, clean, DataFrame below. "
   ]
  },
  {
   "cell_type": "code",
   "execution_count": 5,
   "metadata": {},
   "outputs": [
    {
     "data": {
      "text/html": [
       "<div>\n",
       "<style scoped>\n",
       "    .dataframe tbody tr th:only-of-type {\n",
       "        vertical-align: middle;\n",
       "    }\n",
       "\n",
       "    .dataframe tbody tr th {\n",
       "        vertical-align: top;\n",
       "    }\n",
       "\n",
       "    .dataframe thead th {\n",
       "        text-align: right;\n",
       "    }\n",
       "</style>\n",
       "<table border=\"1\" class=\"dataframe\">\n",
       "  <thead>\n",
       "    <tr style=\"text-align: right;\">\n",
       "      <th></th>\n",
       "      <th>Name</th>\n",
       "      <th>Email</th>\n",
       "      <th>Phone</th>\n",
       "    </tr>\n",
       "  </thead>\n",
       "  <tbody>\n",
       "    <tr>\n",
       "      <th>0</th>\n",
       "      <td>Brooke Lansford</td>\n",
       "      <td>blansford15@example.com</td>\n",
       "      <td>816-123-4567</td>\n",
       "    </tr>\n",
       "    <tr>\n",
       "      <th>1</th>\n",
       "      <td>Lou Gilbert</td>\n",
       "      <td>LouGil11@example.com</td>\n",
       "      <td>816-345-6789</td>\n",
       "    </tr>\n",
       "    <tr>\n",
       "      <th>2</th>\n",
       "      <td>Olivia Wansing</td>\n",
       "      <td>OWansing32@example.com</td>\n",
       "      <td>913-112-2334</td>\n",
       "    </tr>\n",
       "    <tr>\n",
       "      <th>3</th>\n",
       "      <td>Jen Harvey</td>\n",
       "      <td>Jenharvey@example.com</td>\n",
       "      <td>913-345-1234</td>\n",
       "    </tr>\n",
       "    <tr>\n",
       "      <th>4</th>\n",
       "      <td>Gracie Neff</td>\n",
       "      <td>GNeff0@example.com</td>\n",
       "      <td>816-724-5533</td>\n",
       "    </tr>\n",
       "  </tbody>\n",
       "</table>\n",
       "</div>"
      ],
      "text/plain": [
       "              Name                    Email         Phone\n",
       "0  Brooke Lansford  blansford15@example.com  816-123-4567\n",
       "1      Lou Gilbert     LouGil11@example.com  816-345-6789\n",
       "2   Olivia Wansing   OWansing32@example.com  913-112-2334\n",
       "3       Jen Harvey    Jenharvey@example.com  913-345-1234\n",
       "4      Gracie Neff       GNeff0@example.com  816-724-5533"
      ]
     },
     "execution_count": 5,
     "metadata": {},
     "output_type": "execute_result"
    }
   ],
   "source": [
    "contacts_df['Phone'] = formatted_phone\n",
    "\n",
    "contacts_df"
   ]
  }
 ],
 "metadata": {
  "kernelspec": {
   "display_name": ".venv",
   "language": "python",
   "name": "python3"
  },
  "language_info": {
   "codemirror_mode": {
    "name": "ipython",
    "version": 3
   },
   "file_extension": ".py",
   "mimetype": "text/x-python",
   "name": "python",
   "nbconvert_exporter": "python",
   "pygments_lexer": "ipython3",
   "version": "3.11.4"
  },
  "orig_nbformat": 4
 },
 "nbformat": 4,
 "nbformat_minor": 2
}
