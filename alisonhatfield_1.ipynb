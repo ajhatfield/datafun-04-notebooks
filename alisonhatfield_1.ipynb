{
 "cells": [
  {
   "cell_type": "markdown",
   "metadata": {},
   "source": [
    "# Module 4 Project\n",
    "\n",
    "Author: [Alison Hatfield](https://github.com/ajhatfield?tab=repositories)\n",
    "Respitory: [datafun-04-notebooks](https://github.com/ajhatfield/datafun-04-notebooks)\n",
    "\n",
    "## Helpful Resources\n",
    "\n",
    "Video: [Getting Started with Juptyer Notebooks for Python](https://www.youtube.com/watch?v=CwFq3YDU6_Y)\n",
    "\n",
    "Article: [How to Use Jupyter Notebook: A Beginner’s Tutorial](https://www.dataquest.io/blog/jupyter-notebook-tutorial/)\n",
    "\n",
    "Cheat Sheet: [Jupyter Notebooks Cheat Sheet](https://www.edureka.co/blog/wp-content/uploads/2018/10/Jupyter_Notebook_CheatSheet_Edureka.pdf)\n"
   ]
  },
  {
   "cell_type": "markdown",
   "metadata": {},
   "source": [
    "## Task 1 - Series\n",
    "\n",
    "1. We'll look at using a one-dimensional pandas Series to hold and process simple exam data.\n",
    "2. Follow the instructions in 7.14 to import the pandas module (as pd). You'll need to have installed extra modules as described on the README.md.\n",
    "3. In a new Python cell:\n",
    "4. Create a pandas Series named grades from a list of integers (exam scores).\n",
    "5. Get the value of the first grade with grades[0].\n",
    "6. Call the built in Series functions: count(), mean(), min(), max(), std(), and describe()."
   ]
  },
  {
   "cell_type": "code",
   "execution_count": 21,
   "metadata": {},
   "outputs": [
    {
     "data": {
      "text/plain": [
       "count      3.000000\n",
       "mean      93.666667\n",
       "std        6.506407\n",
       "min       87.000000\n",
       "25%       90.500000\n",
       "50%       94.000000\n",
       "75%       97.000000\n",
       "max      100.000000\n",
       "dtype: float64"
      ]
     },
     "execution_count": 21,
     "metadata": {},
     "output_type": "execute_result"
    }
   ],
   "source": [
    "import pandas as pd\n",
    "\n",
    "grades = pd.Series([87, 100, 94], index = ['Wally', 'Eva', 'Sam'])\n",
    "\n",
    "grades.iloc[0]   #Get value of frist grade\n",
    "\n",
    "#Calling built in series funtions\n",
    "grades.count()\n",
    "grades.mean()\n",
    "grades.min()\n",
    "grades.max()\n",
    "grades.std()\n",
    "grades.describe()\n",
    "\n"
   ]
  },
  {
   "cell_type": "markdown",
   "metadata": {},
   "source": [
    "## Task 2 - Series from Dictionary\n",
    "\n",
    "1. Follow the instructions in the \"Dictionary Initializers' subsection to modify your code to initialize grades with a dictionary (a set of key-value pairs instead) - we'll use the student name as the key  and their exam score as the value. \n",
    "2. Add a new Python cell. \n",
    "3. Get Eva's score by calling grades['Eva']\n",
    "4. Get Wally's score using the easier dot notation: grades.Wally.  This is much more common and can be used as long as there are NO spaces in the key text.  If there are spaces, you'll have to use the approach we used for Eva above - wrapping the key in single quotes. \n",
    "5. Use the Series values attribute to display the array of values. \n",
    "6. Complete the self-check on Page 266. \n",
    "7. We can use a Series whenever our values are a simple one-dimensional array.  \n",
    "\n"
   ]
  },
  {
   "cell_type": "code",
   "execution_count": 19,
   "metadata": {},
   "outputs": [
    {
     "data": {
      "text/plain": [
       "array([ 87, 100,  94])"
      ]
     },
     "execution_count": 19,
     "metadata": {},
     "output_type": "execute_result"
    }
   ],
   "source": [
    "grades['Eva']  #get Eva's grade\n",
    "grades.Wally #get Wally's grade using different notation\n",
    "grades.values  #Use values attribute to display array of values."
   ]
  },
  {
   "cell_type": "code",
   "execution_count": 20,
   "metadata": {},
   "outputs": [
    {
     "data": {
      "text/plain": [
       "count      6.000000\n",
       "mean      88.666667\n",
       "std        8.189424\n",
       "min       80.000000\n",
       "25%       81.750000\n",
       "50%       88.000000\n",
       "75%       94.250000\n",
       "max      100.000000\n",
       "dtype: float64"
      ]
     },
     "execution_count": 20,
     "metadata": {},
     "output_type": "execute_result"
    }
   ],
   "source": [
    "#Complete Self Check on page 266\n",
    "\n",
    "import numpy as np \n",
    "\n",
    "temps = np.random.randint(60, 101, 6)\n",
    "\n",
    "temperatures = pd.Series(temps)\n",
    "\n",
    "temperatures\n",
    "\n",
    "temperatures.min()\n",
    "temperatures.max()\n",
    "temperatures.mean()\n",
    "temperatures.describe()"
   ]
  }
 ],
 "metadata": {
  "kernelspec": {
   "display_name": ".venv",
   "language": "python",
   "name": "python3"
  },
  "language_info": {
   "codemirror_mode": {
    "name": "ipython",
    "version": 3
   },
   "file_extension": ".py",
   "mimetype": "text/x-python",
   "name": "python",
   "nbconvert_exporter": "python",
   "pygments_lexer": "ipython3",
   "version": "3.11.4"
  },
  "orig_nbformat": 4
 },
 "nbformat": 4,
 "nbformat_minor": 2
}
